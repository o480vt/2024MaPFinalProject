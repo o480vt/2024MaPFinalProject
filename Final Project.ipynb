{
  "nbformat": 4,
  "nbformat_minor": 0,
  "metadata": {
    "colab": {
      "provenance": [],
      "mount_file_id": "1BMGnIOxB2kt0SotgiK2zPrzpP2vRvTpN",
      "authorship_tag": "ABX9TyMRtAsmWQign7FBNIqWN2mQ",
      "include_colab_link": true
    },
    "kernelspec": {
      "name": "python3",
      "display_name": "Python 3"
    },
    "language_info": {
      "name": "python"
    }
  },
  "cells": [
    {
      "cell_type": "markdown",
      "metadata": {
        "id": "view-in-github",
        "colab_type": "text"
      },
      "source": [
        "<a href=\"https://colab.research.google.com/github/o480vt/2024MaPProject/blob/main/Final%20Project.ipynb\" target=\"_parent\"><img src=\"https://colab.research.google.com/assets/colab-badge.svg\" alt=\"Open In Colab\"/></a>"
      ]
    },
    {
      "cell_type": "code",
      "execution_count": null,
      "metadata": {
        "id": "p58HtxeEbAyO"
      },
      "outputs": [],
      "source": [
        "!git clone https://github.com/SOMJANG/Mecab-ko-for-Google-Colab.git"
      ]
    },
    {
      "cell_type": "code",
      "source": [
        "cd Mecab-ko-for-Google-Colab"
      ],
      "metadata": {
        "id": "S6xkC4zSQUAU"
      },
      "execution_count": null,
      "outputs": []
    },
    {
      "cell_type": "code",
      "source": [
        "!bash install_mecab-ko_on_colab_light_220429.sh"
      ],
      "metadata": {
        "id": "BC0HWiEUQWuJ"
      },
      "execution_count": null,
      "outputs": []
    },
    {
      "cell_type": "code",
      "source": [
        "pip install kss"
      ],
      "metadata": {
        "id": "od2MJTviSeqs"
      },
      "execution_count": null,
      "outputs": []
    },
    {
      "cell_type": "code",
      "source": [
        "import numpy as np\n",
        "import pandas as pd\n",
        "from konlpy.tag import Mecab\n",
        "mecab = Mecab()\n",
        "print('패키지 설치 완료.')"
      ],
      "metadata": {
        "colab": {
          "base_uri": "https://localhost:8080/"
        },
        "id": "zWBWS427TrKa",
        "outputId": "05bdca8b-7289-406c-a1e7-1c85ac3b9087"
      },
      "execution_count": 7,
      "outputs": [
        {
          "output_type": "stream",
          "name": "stdout",
          "text": [
            "패키지 설치 완료.\n"
          ]
        }
      ]
    },
    {
      "cell_type": "code",
      "source": [
        "cases_file = '/content/cases.xlsx'\n",
        "cases_df = pd.read_excel(cases_file)\n",
        "totalcases=cases_df['이유'].values.tolist()\n",
        "cases1960 = cases_df[cases_df['시대'] == 1960]['이유'].values.tolist()\n",
        "cases1970 = cases_df[cases_df['시대'] == 1970]['이유'].values.tolist()\n",
        "cases1980 = cases_df[cases_df['시대'] == 1980]['이유'].values.tolist()\n",
        "cases1990 = cases_df[cases_df['시대'] == 1990]['이유'].values.tolist()\n",
        "cases2000 = cases_df[cases_df['시대'] == 2000]['이유'].values.tolist()\n",
        "cases2010 = cases_df[cases_df['시대'] == 2010]['이유'].values.tolist()\n",
        "totaltext = ' '.join(totalcases)\n",
        "text1960 = ' '.join(cases1960)\n",
        "text1970 = ' '.join(cases1970)\n",
        "text1980 = ' '.join(cases1980)\n",
        "text1990 = ' '.join(cases1990)\n",
        "text2000 = ' '.join(cases2000)\n",
        "text2010 = ' '.join(cases2010)\n",
        "\n",
        "\n",
        "print('판결문 텍스트 정보 전처리(리스트화) 완료.')\n",
        "print('1960년 판례 건수: ',len(cases1960))\n",
        "print('1970년 판례 건수: ',len(cases1970))\n",
        "print('1980년 판례 건수: ',len(cases1980))\n",
        "print('1990년 판례 건수: ',len(cases1990))\n",
        "print('2000년 판례 건수: ',len(cases2000))\n",
        "print('1910년 판례 건수: ',len(cases2010))\n",
        "print('전체 텍스트 길이: ',len(totaltext))\n",
        "print('1960년 텍스트 길이: ',len(text1960))\n",
        "print('1970년 텍스트 길이: ',len(text1970))\n",
        "print('1980년 텍스트 길이: ',len(text1980))\n",
        "print('1990년 텍스트 길이: ',len(text1990))\n",
        "print('2000년 텍스트 길이: ',len(text2000))\n",
        "print('2010년 텍스트 길이: ',len(text2010))"
      ],
      "metadata": {
        "colab": {
          "base_uri": "https://localhost:8080/"
        },
        "id": "JvvfhT2sTwXa",
        "outputId": "e8e59bec-3d38-4dbe-d1f9-5646774d1d97"
      },
      "execution_count": 12,
      "outputs": [
        {
          "output_type": "stream",
          "name": "stdout",
          "text": [
            "판결문 텍스트 정보 전처리(리스트화) 완료.\n",
            "1960년 판례 건수:  89\n",
            "1970년 판례 건수:  61\n",
            "1980년 판례 건수:  80\n",
            "1990년 판례 건수:  133\n",
            "2000년 판례 건수:  50\n",
            "1910년 판례 건수:  111\n",
            "전체 텍스트 길이:  1075686\n",
            "1960년 텍스트 길이:  120619\n",
            "1970년 텍스트 길이:  74883\n",
            "1980년 텍스트 길이:  126914\n",
            "1990년 텍스트 길이:  254531\n",
            "2000년 텍스트 길이:  146352\n",
            "2010년 텍스트 길이:  352382\n"
          ]
        }
      ]
    },
    {
      "cell_type": "code",
      "source": [
        "def truncate_string(input_string, max_length):\n",
        "    if len(input_string) > max_length:\n",
        "        return input_string[:max_length]\n",
        "    return input_string\n",
        "\n",
        "max_length = 70000\n",
        "\n",
        "trimmed_text1960 = truncate_string(text1960, max_length)\n",
        "trimmed_text1970 = truncate_string(text1970, max_length)\n",
        "trimmed_text1980 = truncate_string(text1980, max_length)\n",
        "trimmed_text1990 = truncate_string(text1990, max_length)\n",
        "trimmed_text2000 = truncate_string(text2000, max_length)\n",
        "trimmed_text2010 = truncate_string(text2010, max_length)\n",
        "trimmed_totaltext = trimmed_text1960 + trimmed_text1970 + trimmed_text1980 + trimmed_text1990 + trimmed_text2000 + trimmed_text2010\n",
        "\n",
        "print(len(trimmed_text1960))\n",
        "print(len(trimmed_text1970))\n",
        "print(len(trimmed_text1980))\n",
        "print(len(trimmed_text1990))\n",
        "print(len(trimmed_text2000))\n",
        "print(len(trimmed_text2010))\n",
        "print(len(trimmed_totaltext))\n"
      ],
      "metadata": {
        "colab": {
          "base_uri": "https://localhost:8080/"
        },
        "id": "y2__bn4_UltX",
        "outputId": "3d5a10f5-ccbd-4dbe-ca32-6a487dd25054"
      },
      "execution_count": 13,
      "outputs": [
        {
          "output_type": "stream",
          "name": "stdout",
          "text": [
            "70000\n",
            "70000\n",
            "70000\n",
            "70000\n",
            "70000\n",
            "70000\n",
            "420000\n"
          ]
        }
      ]
    },
    {
      "cell_type": "code",
      "source": [
        "import kss\n",
        "\n",
        "sentences1960 = kss.split_sentences(truncate_string(text1960, 49000))\n",
        "sentences1970 = kss.split_sentences(truncate_string(text1970, 49000))\n",
        "sentences1980 = kss.split_sentences(truncate_string(text1980, 49000))\n",
        "sentences1990 = kss.split_sentences(truncate_string(text1990, 49000))\n",
        "sentences2000 = kss.split_sentences(truncate_string(text2000, 49000))\n",
        "sentences2010 = kss.split_sentences(truncate_string(text2010, 49000))\n",
        "length1960=[]\n",
        "length1970=[]\n",
        "length1980=[]\n",
        "length1990=[]\n",
        "length2000=[]\n",
        "length2010=[]\n",
        "\n",
        "for i in range(len(sentences1960)):\n",
        "  length1960.append(len(sentences1960[i]))\n",
        "for i in range(len(sentences1970)):\n",
        "  length1970.append(len(sentences1970[i]))\n",
        "for i in range(len(sentences1980)):\n",
        "  length1980.append(len(sentences1980[i]))\n",
        "for i in range(len(sentences1990)):\n",
        "  length1990.append(len(sentences1990[i]))\n",
        "for i in range(len(sentences2000)):\n",
        "  length2000.append(len(sentences2000[i]))\n",
        "for i in range(len(sentences2010)):\n",
        "  length2010.append(len(sentences2010[i]))\n",
        "\n",
        "from scipy import stats\n",
        "\n",
        "print('문장 길이 분포가 정규성을 가지는지 검정.')\n",
        "shapiro_stat_1960, shapiro_p_value_1960 = stats.shapiro(length1960)\n",
        "shapiro_stat_1970, shapiro_p_value_1970 = stats.shapiro(length1970)\n",
        "shapiro_stat_1980, shapiro_p_value_1980 = stats.shapiro(length1980)\n",
        "shapiro_stat_1990, shapiro_p_value_1990 = stats.shapiro(length1990)\n",
        "shapiro_stat_2999, shapiro_p_value_2000 = stats.shapiro(length2000)\n",
        "shapiro_stat_2010, shapiro_p_value_2010 = stats.shapiro(length2010)\n",
        "\n",
        "if shapiro_p_value_1960 < 0.04 and shapiro_p_value_1970 < 0.04 and shapiro_p_value_1980 < 0.04 and shapiro_p_value_1990 < 0.04 and shapiro_p_value_2000 < 0.04 and shapiro_p_value_2010 < 0.04:\n",
        "  print(\"모든 년도에 대해 Shapiro-Wilk Test를 수행한 결과, 문장 길이의의 분포의 P-Value는 0.04 이하이므로, 모든 년도가 정규성을 만족하므로 Bartlett's Test를 수행한다.\\n\")\n",
        "else:\n",
        "  print(\"모든 년도에 대해 Shapiro-Wilk Test를 수행한 결과, 정규성을 가지지 않는 년도가 존재한다. 따라서 Fligner-Killeen test를 수행한다.\\n\")\n",
        "\n",
        "bartlett_stat, bartlett_p_value = stats.bartlett(length1960, length1970)\n",
        "\n",
        "print('문장 길이 분포가 균등한지(분산에 유의미한 차이가 있는지) 검정.')\n",
        "print(\"Bartlett's Test Statistic:\", bartlett_stat)\n",
        "print(\"Bartlett's Test P-Value:\", bartlett_p_value)\n",
        "\n",
        "if bartlett_p_value < 0.5:\n",
        "    print(\"문장 길이에 대해 분산 차이가 유의미하게 있다.\")\n",
        "else:\n",
        "    print(\"모든 년도에 대해 문장 길이는 균등하다고 보아도 좋다.\")\n"
      ],
      "metadata": {
        "colab": {
          "base_uri": "https://localhost:8080/"
        },
        "id": "_cbMRagFUt-H",
        "outputId": "91694dc7-8967-439f-b254-2cc3ce57f88d"
      },
      "execution_count": 16,
      "outputs": [
        {
          "output_type": "stream",
          "name": "stdout",
          "text": [
            "문장 길이 분포가 정규성을 가지는지 검정.\n",
            "모든 년도에 대해 Shapiro-Wilk Test를 수행한 결과, 문장 길이의의 분포의 P-Value는 0.04 이하이므로, 모든 년도가 정규성을 만족하므로 Bartlett's Test를 수행한다.\n",
            "\n",
            "문장 길이 분포가 균등한지(분산에 유의미한 차이가 있는지) 검정.\n",
            "Bartlett's Test Statistic: 4.538258343067401\n",
            "Bartlett's Test P-Value: 0.03314529950209816\n",
            "문장 길이에 대해 분산 차이가 유의미하게 있다.\n"
          ]
        }
      ]
    },
    {
      "cell_type": "code",
      "source": [
        "import matplotlib.pyplot as plt\n",
        "\n",
        "fig, axs = plt.subplots(2, 3, figsize=(12, 6))\n",
        "\n",
        "axs[0, 0].hist(length1960, bins=30, alpha=0.5, color='blue', edgecolor='black')\n",
        "axs[0, 0].set_title('length1960')\n",
        "axs[0, 0].set_xlabel('Value')\n",
        "axs[0, 0].set_ylabel('Frequency')\n",
        "axs[0, 0].grid(True)\n",
        "\n",
        "axs[0, 1].hist(length1970, bins=30, alpha=0.5, color='green', edgecolor='black')\n",
        "axs[0, 1].set_title('length1970')\n",
        "axs[0, 1].set_xlabel('Value')\n",
        "axs[0, 1].set_ylabel('Frequency')\n",
        "axs[0, 1].grid(True)\n",
        "\n",
        "axs[0, 2].hist(length1980, bins=30, alpha=0.5, color='red', edgecolor='black')\n",
        "axs[0, 2].set_title('length1980')\n",
        "axs[0, 2].set_xlabel('Value')\n",
        "axs[0, 2].set_ylabel('Frequency')\n",
        "axs[0, 2].grid(True)\n",
        "\n",
        "axs[1, 0].hist(length1990, bins=30, alpha=0.5, color='purple', edgecolor='black')\n",
        "axs[1, 0].set_title('length1990')\n",
        "axs[1, 0].set_xlabel('Value')\n",
        "axs[1, 0].set_ylabel('Frequency')\n",
        "axs[1, 0].grid(True)\n",
        "\n",
        "axs[1, 1].hist(length2000, bins=30, alpha=0.5, color='orange', edgecolor='black')\n",
        "axs[1, 1].set_title('length2000')\n",
        "axs[1, 1].set_xlabel('Value')\n",
        "axs[1, 1].set_ylabel('Frequency')\n",
        "axs[1, 1].grid(True)\n",
        "\n",
        "axs[1, 2].hist(length2010, bins=30, alpha=0.5, color='brown', edgecolor='black')\n",
        "axs[1, 2].set_title('length2010')\n",
        "axs[1, 2].set_xlabel('Value')\n",
        "axs[1, 2].set_ylabel('Frequency')\n",
        "axs[1, 2].grid(True)\n",
        "\n",
        "plt.tight_layout()\n",
        "plt.show()"
      ],
      "metadata": {
        "colab": {
          "base_uri": "https://localhost:8080/",
          "height": 607
        },
        "id": "5HT2_lxlVFFV",
        "outputId": "8d1f2561-e1cc-47b0-c9fd-919d53a9084f"
      },
      "execution_count": 17,
      "outputs": [
        {
          "output_type": "display_data",
          "data": {
            "text/plain": [
              "<Figure size 1200x600 with 6 Axes>"
            ],
            "image/png": "[encoded data removed]"
          },
          "metadata": {}
        }
      ]
    },
    {
      "cell_type": "code",
      "source": [
        "totaltagger = mecab.pos(trimmed_totaltext)\n",
        "\n",
        "T=[]\n",
        "S=[]\n",
        "O=[]\n",
        "V=[]\n",
        "\n",
        "for i in range(len(totaltagger)):\n",
        "    T.append(totaltagger[i][0])\n",
        "while '.' in T:\n",
        "    T.remove('.')\n",
        "while '(' in T:\n",
        "    T.remove('(')\n",
        "while ')' in T:\n",
        "    T.remove(')')\n",
        "\n",
        "for i in range(len(totaltagger)):\n",
        "  if totaltagger[i-1][1] == 'SSC' and ((totaltagger[i][0] == '는' and totaltagger[i][1] == 'JX') or (totaltagger[i][0] == '은' and totaltagger[i][1] == 'JX')):\n",
        "    S.append(totaltagger[i-2][0])\n",
        "  elif (totaltagger[i][0] == '는' and totaltagger[i][1] == 'JX') or (totaltagger[i][0] == '은' and totaltagger[i][1] == 'JX'):\n",
        "    S.append(totaltagger[i-1][0])\n",
        "\n",
        "for i in range(len(totaltagger)):\n",
        "  if totaltagger[i][1] == 'JKO':\n",
        "    O.append(totaltagger[i-1][0])\n",
        "\n",
        "for i in range(len(totaltagger)):\n",
        "  if (totaltagger[i-2][1] == 'NNB' and totaltagger[i-1][1] == 'VCP' and totaltagger[i][1] == 'EF'):\n",
        "    V.append(totaltagger[i-3][0])\n",
        "  elif (totaltagger[i-1][1] == 'VCP' and totaltagger[i][1] == 'EF'):\n",
        "    V.append(totaltagger[i-2][0])\n",
        "  elif totaltagger[i][1] == 'EF':\n",
        "    V.append(totaltagger[i-1][0])\n",
        "  if totaltagger[i][1] == 'XSV+EF':\n",
        "    V.append(totaltagger[i-1][0])\n",
        "  if totaltagger[i][1] == 'VV+EF' or totaltagger[i][1] == 'VA+EF' or totaltagger[i][1] == 'VX+EF':\n",
        "    V.append(totaltagger[i][0])\n",
        "\n",
        "print('격틀별 어휘 토큰화 및 선별 완료.')\n",
        "print('전체 어휘: ',T[0:10],'등 총',len(T),'건')\n",
        "print('주제격 자리에서 출현하는 어휘: ',S[0:10],'등 총',len(S),'건')\n",
        "print('목적격 자리에서 출현하는 어휘: ',O[0:10],'등 총',len(O),'건')\n",
        "print('술부 자리에서 출현하는 어휘: ',V[0:10],'등 총',len(V),'건')"
      ],
      "metadata": {
        "colab": {
          "base_uri": "https://localhost:8080/"
        },
        "id": "Ve1QokUTVZaP",
        "outputId": "2a52f337-4be0-4e9a-a52c-b0b2bf87b1e6"
      },
      "execution_count": 18,
      "outputs": [
        {
          "output_type": "stream",
          "name": "stdout",
          "text": [
            "격틀별 어휘 토큰화 및 선별 완료.\n",
            "전체 어휘:  ['피', '고', '소송', '수행자', '의', '상고', '이유', '에', '대한', '판단'] 등 총 198620 건\n",
            "주제격 자리에서 출현하는 어휘:  ['수', '원고', '주장', '조치', '상고', '소송비용', '상속인', '법의', '함', '원심'] 등 총 4137 건\n",
            "목적격 자리에서 출현하는 어휘:  ['부상', '수당금', '돈', '이것', '보상금', '음', '포기', '기간', '포기', '유여'] 등 총 7053 건\n",
            "술부 자리에서 출현하는 어휘:  ['없', '판결', '할', '없', '없', '없', '판결', '본다', '있', '못할'] 등 총 1535 건\n"
          ]
        }
      ]
    },
    {
      "cell_type": "code",
      "source": [
        "from collections import Counter\n",
        "\n",
        "PropT=[]\n",
        "PropS=[]\n",
        "PropO=[]\n",
        "PropV=[]\n",
        "\n",
        "word_counts = Counter(T)\n",
        "T_frequency_list = [(item, count) for item, count in word_counts.items()]\n",
        "print('전체 어휘 카운팅',T_frequency_list[0:5],'등 총',len(T_frequency_list),'건')\n",
        "\n",
        "word_counts = Counter(S)\n",
        "S_frequency_list = [(item, count) for item, count in word_counts.items()]\n",
        "print('주제어 카운팅',S_frequency_list[0:5],'등 총',len(S_frequency_list),'건')\n",
        "\n",
        "word_counts = Counter(O)\n",
        "O_frequency_list = [(item, count) for item, count in word_counts.items()]\n",
        "print('목적어 카운팅',O_frequency_list[0:5],'등 총',len(O_frequency_list),'건')\n",
        "\n",
        "word_counts = Counter(V)\n",
        "V_frequency_list = [(item, count) for item, count in word_counts.items()]\n",
        "print('술어 카운팅',V_frequency_list[0:5],'등 총',len(V_frequency_list),'건')\n",
        "\n",
        "for i in range(len(T_frequency_list)):\n",
        "  p = round(T_frequency_list[i][1]/len(T),6)\n",
        "  PropT.append((T_frequency_list[i][0],p))\n",
        "print('전체 어휘의 확률분포:', PropT[0:10])\n",
        "\n",
        "for i in range(len(S_frequency_list)):\n",
        "  p = round(S_frequency_list[i][1]/len(S),6)\n",
        "  PropS.append((S_frequency_list[i][0],p))\n",
        "print('주제 자리 어휘의 확률분포:', PropS[0:10])\n",
        "\n",
        "for i in range(len(O_frequency_list)):\n",
        "  p = round(O_frequency_list[i][1]/len(O),6)\n",
        "  PropO.append((O_frequency_list[i][0],p))\n",
        "print('목적격 자리 어휘의 확률분포:',PropO[0:10])\n",
        "\n",
        "for i in range(len(V_frequency_list)):\n",
        "  p = round(V_frequency_list[i][1]/len(V),6)\n",
        "  PropV.append((V_frequency_list[i][0],p))\n",
        "print('술부 자리 어휘의 확률분포:', PropV[0:10])"
      ],
      "metadata": {
        "colab": {
          "base_uri": "https://localhost:8080/"
        },
        "id": "uIihGDvKV_Ay",
        "outputId": "8ca22652-8cd7-46e6-bd62-34fd9be7bdd4"
      },
      "execution_count": 19,
      "outputs": [
        {
          "output_type": "stream",
          "name": "stdout",
          "text": [
            "전체 어휘 카운팅 [('피', 636), ('고', 2975), ('소송', 211), ('수행자', 18), ('의', 7186)] 등 총 7033 건\n",
            "주제어 카운팅 [('수', 50), ('원고', 136), ('주장', 51), ('조치', 26), ('상고', 35)] 등 총 610 건\n",
            "목적어 카운팅 [('부상', 1), ('수당금', 1), ('돈', 6), ('이것', 8), ('보상금', 1)] 등 총 1166 건\n",
            "술어 카운팅 [('없', 344), ('판결', 176), ('할', 168), ('본다', 74), ('있', 150)] 등 총 105 건\n",
            "전체 어휘의 확률분포: [('피', 0.003202), ('고', 0.014978), ('소송', 0.001062), ('수행자', 9.1e-05), ('의', 0.03618), ('상고', 0.004259), ('이유', 0.006319), ('에', 0.032675), ('대한', 0.002678), ('판단', 0.00363)]\n",
            "주제 자리 어휘의 확률분포: [('수', 0.012086), ('원고', 0.032874), ('주장', 0.012328), ('조치', 0.006285), ('상고', 0.00846), ('소송비용', 0.006768), ('상속인', 0.000967), ('법의', 0.000242), ('함', 0.00846), ('원심', 0.058013)]\n",
            "목적격 자리 어휘의 확률분포: [('부상', 0.000142), ('수당금', 0.000142), ('돈', 0.000851), ('이것', 0.001134), ('보상금', 0.000142), ('음', 0.011484), ('포기', 0.000425), ('기간', 0.003686), ('유여', 0.000142), ('발생', 0.000709)]\n",
            "술부 자리 어휘의 확률분포: [('없', 0.224104), ('판결', 0.114658), ('할', 0.109446), ('본다', 0.048208), ('있', 0.09772), ('못할', 0.003909), ('하', 0.036482), ('는', 0.023453), ('아니', 0.007166), ('판단', 0.054723)]\n"
          ]
        }
      ]
    },
    {
      "cell_type": "code",
      "source": [
        "import pandas as pd\n",
        "\n",
        "df_T = pd.DataFrame(PropT, columns=['Word', 'Frequency'])\n",
        "df_S = pd.DataFrame(PropS, columns=['Word', 'Frequency'])\n",
        "df_O = pd.DataFrame(PropO, columns=['Word', 'Frequency'])\n",
        "df_V = pd.DataFrame(PropV, columns=['Word', 'Frequency'])\n",
        "\n",
        "df_T.to_excel('/content/drive/MyDrive/Colab Notebooks/PropT.xlsx', index=False)\n",
        "df_S.to_excel('/content/drive/MyDrive/Colab Notebooks/PropS.xlsx', index=False)\n",
        "df_O.to_excel('/content/drive/MyDrive/Colab Notebooks/PropO.xlsx', index=False)\n",
        "df_V.to_excel('/content/drive/MyDrive/Colab Notebooks/PropV.xlsx', index=False)\n",
        "\n",
        "print(\"빈도정보 엑셀 내보내기 완료.\")"
      ],
      "metadata": {
        "colab": {
          "base_uri": "https://localhost:8080/"
        },
        "id": "q56l4yIlWCFz",
        "outputId": "22afb28c-7c24-44f9-b6b6-8ec3b540df6e"
      },
      "execution_count": 33,
      "outputs": [
        {
          "output_type": "stream",
          "name": "stdout",
          "text": [
            "빈도정보 엑셀 내보내기 완료.\n"
          ]
        }
      ]
    },
    {
      "cell_type": "code",
      "source": [
        "tagger1960 = mecab.pos(trimmed_text1960)\n",
        "\n",
        "probabilities=[]\n",
        "for i in range(len(tagger1960)):\n",
        "  for j in range(len(PropT)):\n",
        "      if PropT[j][0] == tagger1960[i][0]:\n",
        "        probabilities.append(PropT[j][1])\n",
        "entropy1960 = -sum(p * np.log2(p) for p in probabilities if p > 0)\n",
        "print('1960년대의 전체 엔트로피: ',entropy1960)\n",
        "\n",
        "probabilities=[]\n",
        "for i in range(len(tagger1960)):\n",
        "  if tagger1960[i-1][1] == 'SSC' and ((tagger1960[i][0] == '는' and tagger1960[i][1] == 'JX') or (tagger1960[i][0] == '은' and tagger1960[i][1] == 'JX')):\n",
        "    for j in range(len(PropS)):\n",
        "      if PropS[j][0] == tagger1960[i-2][0]:\n",
        "        probabilities.append(PropS[j][1])\n",
        "  elif (tagger1960[i][0] == '는' and tagger1960[i][1] == 'JX') or (tagger1960[i][0] == '은' and tagger1960[i][1] == 'JX'):\n",
        "    for j in range(len(PropS)):\n",
        "      if PropS[j][0] == tagger1960[i-1][0]:\n",
        "        probabilities.append(PropS[j][1])\n",
        "S_entropy1960 = -sum(p * np.log2(p) for p in probabilities)\n",
        "print('1960년대의 주제어 엔트로피: ',S_entropy1960)\n",
        "\n",
        "probabilities=[]\n",
        "for i in range(len(tagger1960)):\n",
        "  if tagger1960[i][1] == 'JKO':\n",
        "    for j in range(len(PropO)):\n",
        "      if PropO[j][0] == tagger1960[i-1][0]:\n",
        "        probabilities.append(PropO[j][1])\n",
        "O_entropy1960 = -sum(p * np.log2(p) for p in probabilities)\n",
        "print('1960년대의 목적어 엔트로피: ',O_entropy1960)\n",
        "\n",
        "probabilities=[]\n",
        "for i in range(len(tagger1960)):\n",
        "  if (tagger1960[i-2][1] == 'NNB' and tagger1960[i-1][1] == 'VCP' and tagger1960[i][1] == 'EF'):\n",
        "    for j in range(len(PropV)):\n",
        "      if PropV[j][0] == tagger1960[i-3][0]:\n",
        "        probabilities.append(PropV[j][1])\n",
        "  elif (tagger1960[i-1][1] == 'VCP' and tagger1960[i][1] == 'EF'):\n",
        "    for j in range(len(PropV)):\n",
        "      if PropV[j][0] == tagger1960[i-2][0]:\n",
        "        probabilities.append(PropV[j][1])\n",
        "  elif tagger1960[i][1] == 'EF':\n",
        "    for j in range(len(PropV)):\n",
        "      if PropV[j][0] == tagger1960[i-1][0]:\n",
        "        probabilities.append(PropV[j][1])\n",
        "  if tagger1960[i][1] == 'XSV+EF':\n",
        "    for j in range(len(PropV)):\n",
        "      if PropV[j][0] == tagger1960[i-1][0]:\n",
        "        probabilities.append(PropV[j][1])\n",
        "  if tagger1960[i][1] == 'VV+EF' or tagger1960[i][1] == 'VA+EF' or tagger1960[i][1] == 'VX+EF':\n",
        "    for j in range(len(PropV)):\n",
        "      if PropV[j][0] == tagger1960[i][0]:\n",
        "        probabilities.append(PropV[j][1])\n",
        "V_entropy1960 = -sum(p * np.log2(p) for p in probabilities)\n",
        "print('1960년대의 술어 엔트로피: ',V_entropy1960)"
      ],
      "metadata": {
        "colab": {
          "base_uri": "https://localhost:8080/"
        },
        "id": "-Lk9JRgFYlcP",
        "outputId": "7b2f18e5-c34b-4069-c900-c5702636b973"
      },
      "execution_count": 34,
      "outputs": [
        {
          "output_type": "stream",
          "name": "stdout",
          "text": [
            "1960년대의 전체 엔트로피:  1768.0599521738764\n",
            "1960년대의 주제어 엔트로피:  85.02432453820575\n",
            "1960년대의 목적어 엔트로피:  55.29333324227508\n",
            "1960년대의 술어 엔트로피:  88.1783268942085\n"
          ]
        }
      ]
    },
    {
      "cell_type": "code",
      "source": [
        "tagger1970 = mecab.pos(trimmed_text1970)\n",
        "\n",
        "probabilities=[]\n",
        "for i in range(len(tagger1970)):\n",
        "  for j in range(len(PropT)):\n",
        "      if PropT[j][0] == tagger1970[i][0]:\n",
        "        probabilities.append(PropT[j][1])\n",
        "entropy1970 = -sum(p * np.log2(p) for p in probabilities if p > 0)\n",
        "print('1970년대의 전체 엔트로피: ',entropy1970)\n",
        "\n",
        "probabilities=[]\n",
        "for i in range(len(tagger1970)):\n",
        "  if tagger1970[i-1][1] == 'SSC' and ((tagger1970[i][0] == '는' and tagger1970[i][1] == 'JX') or (tagger1970[i][0] == '은' and tagger1970[i][1] == 'JX')):\n",
        "    for j in range(len(PropS)):\n",
        "      if PropS[j][0] == tagger1970[i-2][0]:\n",
        "        probabilities.append(PropS[j][1])\n",
        "  elif (tagger1970[i][0] == '는' and tagger1970[i][1] == 'JX') or (tagger1970[i][0] == '은' and tagger1970[i][1] == 'JX'):\n",
        "    for j in range(len(PropS)):\n",
        "      if PropS[j][0] == tagger1970[i-1][0]:\n",
        "        probabilities.append(PropS[j][1])\n",
        "S_entropy1970 = -sum(p * np.log2(p) for p in probabilities)\n",
        "print('1970년대의 주제어 엔트로피: ',S_entropy1970)\n",
        "\n",
        "probabilities=[]\n",
        "for i in range(len(tagger1970)):\n",
        "  if tagger1970[i][1] == 'JKO':\n",
        "    for j in range(len(PropO)):\n",
        "      if PropO[j][0] == tagger1970[i-1][0]:\n",
        "        probabilities.append(PropO[j][1])\n",
        "O_entropy1970 = -sum(p * np.log2(p) for p in probabilities)\n",
        "print('1970년대의 목적어 엔트로피: ',O_entropy1970)\n",
        "\n",
        "probabilities=[]\n",
        "for i in range(len(tagger1970)):\n",
        "  if (tagger1970[i-2][1] == 'NNB' and tagger1970[i-1][1] == 'VCP' and tagger1970[i][1] == 'EF'):\n",
        "    for j in range(len(PropV)):\n",
        "      if PropV[j][0] == tagger1970[i-3][0]:\n",
        "        probabilities.append(PropV[j][1])\n",
        "  elif (tagger1970[i-1][1] == 'VCP' and tagger1970[i][1] == 'EF'):\n",
        "    for j in range(len(PropV)):\n",
        "      if PropV[j][0] == tagger1970[i-2][0]:\n",
        "        probabilities.append(PropV[j][1])\n",
        "  elif tagger1970[i][1] == 'EF':\n",
        "    for j in range(len(PropV)):\n",
        "      if PropV[j][0] == tagger1970[i-1][0]:\n",
        "        probabilities.append(PropV[j][1])\n",
        "  if tagger1970[i][1] == 'XSV+EF':\n",
        "    for j in range(len(PropV)):\n",
        "      if PropV[j][0] == tagger1970[i-1][0]:\n",
        "        probabilities.append(PropV[j][1])\n",
        "  if tagger1970[i][1] == 'VV+EF' or tagger1970[i][1] == 'VA+EF' or tagger1970[i][1] == 'VX+EF':\n",
        "    for j in range(len(PropV)):\n",
        "      if PropV[j][0] == tagger1970[i][0]:\n",
        "        probabilities.append(PropV[j][1])\n",
        "V_entropy1970 = -sum(p * np.log2(p) for p in probabilities)\n",
        "print('1970년대의 술어 엔트로피: ',V_entropy1970)"
      ],
      "metadata": {
        "colab": {
          "base_uri": "https://localhost:8080/"
        },
        "id": "x1POj_gCZBJc",
        "outputId": "7485264d-286e-41bc-8a6a-48a8c5d4cc98"
      },
      "execution_count": 35,
      "outputs": [
        {
          "output_type": "stream",
          "name": "stdout",
          "text": [
            "1970년대의 전체 엔트로피:  1753.4284560560484\n",
            "1970년대의 주제어 엔트로피:  82.3312474033558\n",
            "1970년대의 목적어 엔트로피:  60.0771187006228\n",
            "1970년대의 술어 엔트로피:  88.32774612450808\n"
          ]
        }
      ]
    },
    {
      "cell_type": "code",
      "source": [
        "tagger1980 = mecab.pos(trimmed_text1980)\n",
        "\n",
        "probabilities=[]\n",
        "for i in range(len(tagger1980)):\n",
        "  for j in range(len(PropT)):\n",
        "      if PropT[j][0] == tagger1980[i][0]:\n",
        "        probabilities.append(PropT[j][1])\n",
        "entropy1980 = -sum(p * np.log2(p) for p in probabilities if p > 0)\n",
        "print('1980년대의 전체 엔트로피: ',entropy1980)\n",
        "\n",
        "probabilities=[]\n",
        "for i in range(len(tagger1980)):\n",
        "  if tagger1980[i-1][1] == 'SSC' and ((tagger1980[i][0] == '는' and tagger1980[i][1] == 'JX') or (tagger1980[i][0] == '은' and tagger1980[i][1] == 'JX')):\n",
        "    for j in range(len(PropS)):\n",
        "      if PropS[j][0] == tagger1980[i-2][0]:\n",
        "        probabilities.append(PropS[j][1])\n",
        "  elif (tagger1980[i][0] == '는' and tagger1980[i][1] == 'JX') or (tagger1980[i][0] == '은' and tagger1980[i][1] == 'JX'):\n",
        "    for j in range(len(PropS)):\n",
        "      if PropS[j][0] == tagger1980[i-1][0]:\n",
        "        probabilities.append(PropS[j][1])\n",
        "S_entropy1980 = -sum(p * np.log2(p) for p in probabilities)\n",
        "print('1980년대의 주제어 엔트로피: ',S_entropy1980)\n",
        "\n",
        "probabilities=[]\n",
        "for i in range(len(tagger1980)):\n",
        "  if tagger1980[i][1] == 'JKO':\n",
        "    for j in range(len(PropO)):\n",
        "      if PropO[j][0] == tagger1980[i-1][0]:\n",
        "        probabilities.append(PropO[j][1])\n",
        "O_entropy1980 = -sum(p * np.log2(p) for p in probabilities)\n",
        "print('1980년대의 목적어 엔트로피: ',O_entropy1980)\n",
        "\n",
        "probabilities=[]\n",
        "for i in range(len(tagger1980)):\n",
        "  if (tagger1980[i-2][1] == 'NNB' and tagger1980[i-1][1] == 'VCP' and tagger1980[i][1] == 'EF'):\n",
        "    for j in range(len(PropV)):\n",
        "      if PropV[j][0] == tagger1980[i-3][0]:\n",
        "        probabilities.append(PropV[j][1])\n",
        "  elif (tagger1980[i-1][1] == 'VCP' and tagger1980[i][1] == 'EF'):\n",
        "    for j in range(len(PropV)):\n",
        "      if PropV[j][0] == tagger1980[i-2][0]:\n",
        "        probabilities.append(PropV[j][1])\n",
        "  elif tagger1980[i][1] == 'EF':\n",
        "    for j in range(len(PropV)):\n",
        "      if PropV[j][0] == tagger1980[i-1][0]:\n",
        "        probabilities.append(PropV[j][1])\n",
        "  if tagger1980[i][1] == 'XSV+EF':\n",
        "    for j in range(len(PropV)):\n",
        "      if PropV[j][0] == tagger1980[i-1][0]:\n",
        "        probabilities.append(PropV[j][1])\n",
        "  if tagger1980[i][1] == 'VV+EF' or tagger1980[i][1] == 'VA+EF' or tagger1980[i][1] == 'VX+EF':\n",
        "    for j in range(len(PropV)):\n",
        "      if PropV[j][0] == tagger1980[i][0]:\n",
        "        probabilities.append(PropV[j][1])\n",
        "V_entropy1980 = -sum(p * np.log2(p) for p in probabilities)\n",
        "print('1980년대의 술어 엔트로피: ',V_entropy1980)"
      ],
      "metadata": {
        "colab": {
          "base_uri": "https://localhost:8080/"
        },
        "id": "gqa1P-NddBsy",
        "outputId": "aeb60ad8-068a-451f-d40e-667873e836cf"
      },
      "execution_count": 42,
      "outputs": [
        {
          "output_type": "stream",
          "name": "stdout",
          "text": [
            "1980년대의 전체 엔트로피:  1726.2173003455093\n",
            "1980년대의 주제어 엔트로피:  71.47532270745086\n",
            "1980년대의 목적어 엔트로피:  63.08317478083805\n",
            "1980년대의 술어 엔트로피:  68.5674565063418\n"
          ]
        }
      ]
    },
    {
      "cell_type": "code",
      "source": [
        "tagger1990 = mecab.pos(trimmed_text1990)\n",
        "\n",
        "probabilities=[]\n",
        "for i in range(len(tagger1990)):\n",
        "  for j in range(len(PropT)):\n",
        "      if PropT[j][0] == tagger1990[i][0]:\n",
        "        probabilities.append(PropT[j][1])\n",
        "entropy1990 = -sum(p * np.log2(p) for p in probabilities if p > 0)\n",
        "print('1990년대의 전체 엔트로피: ',entropy1990)\n",
        "\n",
        "probabilities=[]\n",
        "for i in range(len(tagger1990)):\n",
        "  if tagger1990[i-1][1] == 'SSC' and ((tagger1990[i][0] == '는' and tagger1990[i][1] == 'JX') or (tagger1990[i][0] == '은' and tagger1990[i][1] == 'JX')):\n",
        "    for j in range(len(PropS)):\n",
        "      if PropS[j][0] == tagger1990[i-2][0]:\n",
        "        probabilities.append(PropS[j][1])\n",
        "  elif (tagger1990[i][0] == '는' and tagger1990[i][1] == 'JX') or (tagger1990[i][0] == '은' and tagger1990[i][1] == 'JX'):\n",
        "    for j in range(len(PropS)):\n",
        "      if PropS[j][0] == tagger1990[i-1][0]:\n",
        "        probabilities.append(PropS[j][1])\n",
        "S_entropy1990 = -sum(p * np.log2(p) for p in probabilities)\n",
        "print('1990년대의 주제어 엔트로피: ',S_entropy1990)\n",
        "\n",
        "probabilities=[]\n",
        "for i in range(len(tagger1990)):\n",
        "  if tagger1990[i][1] == 'JKO':\n",
        "    for j in range(len(PropO)):\n",
        "      if PropO[j][0] == tagger1990[i-1][0]:\n",
        "        probabilities.append(PropO[j][1])\n",
        "O_entropy1990 = -sum(p * np.log2(p) for p in probabilities)\n",
        "print('1990년대의 목적어 엔트로피: ',O_entropy1990)\n",
        "\n",
        "probabilities=[]\n",
        "for i in range(len(tagger1990)):\n",
        "  if (tagger1990[i-2][1] == 'NNB' and tagger1990[i-1][1] == 'VCP' and tagger1990[i][1] == 'EF'):\n",
        "    for j in range(len(PropV)):\n",
        "      if PropV[j][0] == tagger1990[i-3][0]:\n",
        "        probabilities.append(PropV[j][1])\n",
        "  elif (tagger1990[i-1][1] == 'VCP' and tagger1990[i][1] == 'EF'):\n",
        "    for j in range(len(PropV)):\n",
        "      if PropV[j][0] == tagger1990[i-2][0]:\n",
        "        probabilities.append(PropV[j][1])\n",
        "  elif tagger1990[i][1] == 'EF':\n",
        "    for j in range(len(PropV)):\n",
        "      if PropV[j][0] == tagger1990[i-1][0]:\n",
        "        probabilities.append(PropV[j][1])\n",
        "  if tagger1990[i][1] == 'XSV+EF':\n",
        "    for j in range(len(PropV)):\n",
        "      if PropV[j][0] == tagger1990[i-1][0]:\n",
        "        probabilities.append(PropV[j][1])\n",
        "  if tagger1990[i][1] == 'VV+EF' or tagger1990[i][1] == 'VA+EF' or tagger1990[i][1] == 'VX+EF':\n",
        "    for j in range(len(PropV)):\n",
        "      if PropV[j][0] == tagger1990[i][0]:\n",
        "        probabilities.append(PropV[j][1])\n",
        "V_entropy1990 = -sum(p * np.log2(p) for p in probabilities)\n",
        "print('1990년대의 술어 엔트로피: ',V_entropy1990)"
      ],
      "metadata": {
        "colab": {
          "base_uri": "https://localhost:8080/"
        },
        "id": "clURi7x4ab8L",
        "outputId": "f1bc56e0-77e9-4476-885a-10f9654b6aec"
      },
      "execution_count": 36,
      "outputs": [
        {
          "output_type": "stream",
          "name": "stdout",
          "text": [
            "1990년대의 전체 엔트로피:  1751.7039636833563\n",
            "1990년대의 주제어 엔트로피:  70.56488106799807\n",
            "1990년대의 목적어 엔트로피:  59.39898260650625\n",
            "1990년대의 술어 엔트로피:  70.8458384483341\n"
          ]
        }
      ]
    },
    {
      "cell_type": "code",
      "source": [
        "tagger2000 = mecab.pos(trimmed_text2000)\n",
        "\n",
        "probabilities=[]\n",
        "for i in range(len(tagger2000)):\n",
        "  for j in range(len(PropT)):\n",
        "      if PropT[j][0] == tagger2000[i][0]:\n",
        "        probabilities.append(PropT[j][1])\n",
        "entropy2000 = -sum(p * np.log2(p) for p in probabilities if p > 0)\n",
        "print('2000년대의 전체 엔트로피: ',entropy2000)\n",
        "\n",
        "probabilities=[]\n",
        "for i in range(len(tagger2000)):\n",
        "  if tagger2000[i-1][1] == 'SSC' and ((tagger2000[i][0] == '는' and tagger2000[i][1] == 'JX') or (tagger2000[i][0] == '은' and tagger2000[i][1] == 'JX')):\n",
        "    for j in range(len(PropS)):\n",
        "      if PropS[j][0] == tagger2000[i-2][0]:\n",
        "        probabilities.append(PropS[j][1])\n",
        "  elif (tagger2000[i][0] == '는' and tagger2000[i][1] == 'JX') or (tagger2000[i][0] == '은' and tagger2000[i][1] == 'JX'):\n",
        "    for j in range(len(PropS)):\n",
        "      if PropS[j][0] == tagger2000[i-1][0]:\n",
        "        probabilities.append(PropS[j][1])\n",
        "S_entropy2000 = -sum(p * np.log2(p) for p in probabilities)\n",
        "print('2000년대의 주제어 엔트로피: ',S_entropy2000)\n",
        "\n",
        "probabilities=[]\n",
        "for i in range(len(tagger2000)):\n",
        "  if tagger2000[i][1] == 'JKO':\n",
        "    for j in range(len(PropO)):\n",
        "      if PropO[j][0] == tagger2000[i-1][0]:\n",
        "        probabilities.append(PropO[j][1])\n",
        "O_entropy2000 = -sum(p * np.log2(p) for p in probabilities)\n",
        "print('2000년대의 목적어 엔트로피: ',O_entropy2000)\n",
        "\n",
        "probabilities=[]\n",
        "for i in range(len(tagger2000)):\n",
        "  if (tagger2000[i-2][1] == 'NNB' and tagger2000[i-1][1] == 'VCP' and tagger2000[i][1] == 'EF'):\n",
        "    for j in range(len(PropV)):\n",
        "      if PropV[j][0] == tagger2000[i-3][0]:\n",
        "        probabilities.append(PropV[j][1])\n",
        "  elif (tagger2000[i-1][1] == 'VCP' and tagger2000[i][1] == 'EF'):\n",
        "    for j in range(len(PropV)):\n",
        "      if PropV[j][0] == tagger2000[i-2][0]:\n",
        "        probabilities.append(PropV[j][1])\n",
        "  elif tagger2000[i][1] == 'EF':\n",
        "    for j in range(len(PropV)):\n",
        "      if PropV[j][0] == tagger2000[i-1][0]:\n",
        "        probabilities.append(PropV[j][1])\n",
        "  if tagger2000[i][1] == 'XSV+EF':\n",
        "    for j in range(len(PropV)):\n",
        "      if PropV[j][0] == tagger2000[i-1][0]:\n",
        "        probabilities.append(PropV[j][1])\n",
        "  if tagger2000[i][1] == 'VV+EF' or tagger2000[i][1] == 'VA+EF' or tagger2000[i][1] == 'VX+EF':\n",
        "    for j in range(len(PropV)):\n",
        "      if PropV[j][0] == tagger2000[i][0]:\n",
        "        probabilities.append(PropV[j][1])\n",
        "V_entropy2000 = -sum(p * np.log2(p) for p in probabilities)\n",
        "print('2000년대의 술어 엔트로피: ',V_entropy2000)"
      ],
      "metadata": {
        "colab": {
          "base_uri": "https://localhost:8080/"
        },
        "id": "MowjypizbJx0",
        "outputId": "e9b65746-35ee-41db-d242-65812afd8f96"
      },
      "execution_count": 37,
      "outputs": [
        {
          "output_type": "stream",
          "name": "stdout",
          "text": [
            "2000년대의 전체 엔트로피:  1631.0066633597387\n",
            "2000년대의 주제어 엔트로피:  65.57656249735682\n",
            "2000년대의 목적어 엔트로피:  50.22306056287259\n",
            "2000년대의 술어 엔트로피:  49.94136036095482\n"
          ]
        }
      ]
    },
    {
      "cell_type": "code",
      "source": [
        "tagger2010 = mecab.pos(trimmed_text2010)\n",
        "\n",
        "probabilities=[]\n",
        "for i in range(len(tagger2010)):\n",
        "  for j in range(len(PropT)):\n",
        "      if PropT[j][0] == tagger2010[i][0]:\n",
        "        probabilities.append(PropT[j][1])\n",
        "entropy2010 = -sum(p * np.log2(p) for p in probabilities if p > 0)\n",
        "print('2010년대의 전체 엔트로피: ',entropy2010)\n",
        "\n",
        "probabilities=[]\n",
        "for i in range(len(tagger2010)):\n",
        "  if tagger2010[i-1][1] == 'SSC' and ((tagger2010[i][0] == '는' and tagger2010[i][1] == 'JX') or (tagger2010[i][0] == '은' and tagger2010[i][1] == 'JX')):\n",
        "    for j in range(len(PropS)):\n",
        "      if PropS[j][0] == tagger2010[i-2][0]:\n",
        "        probabilities.append(PropS[j][1])\n",
        "  elif (tagger2010[i][0] == '는' and tagger2010[i][1] == 'JX') or (tagger2010[i][0] == '은' and tagger2010[i][1] == 'JX'):\n",
        "    for j in range(len(PropS)):\n",
        "      if PropS[j][0] == tagger2010[i-1][0]:\n",
        "        probabilities.append(PropS[j][1])\n",
        "S_entropy2010 = -sum(p * np.log2(p) for p in probabilities)\n",
        "print('2010년대의 주제어 엔트로피: ',S_entropy2010)\n",
        "\n",
        "probabilities=[]\n",
        "for i in range(len(tagger2010)):\n",
        "  if tagger2010[i][1] == 'JKO':\n",
        "    for j in range(len(PropO)):\n",
        "      if PropO[j][0] == tagger2010[i-1][0]:\n",
        "        probabilities.append(PropO[j][1])\n",
        "O_entropy2010 = -sum(p * np.log2(p) for p in probabilities)\n",
        "print('2010년대의 목적어 엔트로피: ',O_entropy2010)\n",
        "\n",
        "probabilities=[]\n",
        "for i in range(len(tagger2010)):\n",
        "  if (tagger2010[i-2][1] == 'NNB' and tagger2010[i-1][1] == 'VCP' and tagger2010[i][1] == 'EF'):\n",
        "    for j in range(len(PropV)):\n",
        "      if PropV[j][0] == tagger2010[i-3][0]:\n",
        "        probabilities.append(PropV[j][1])\n",
        "  elif (tagger2010[i-1][1] == 'VCP' and tagger2010[i][1] == 'EF'):\n",
        "    for j in range(len(PropV)):\n",
        "      if PropV[j][0] == tagger2010[i-2][0]:\n",
        "        probabilities.append(PropV[j][1])\n",
        "  elif tagger2010[i][1] == 'EF':\n",
        "    for j in range(len(PropV)):\n",
        "      if PropV[j][0] == tagger2010[i-1][0]:\n",
        "        probabilities.append(PropV[j][1])\n",
        "  if tagger2010[i][1] == 'XSV+EF':\n",
        "    for j in range(len(PropV)):\n",
        "      if PropV[j][0] == tagger2010[i-1][0]:\n",
        "        probabilities.append(PropV[j][1])\n",
        "  if tagger2010[i][1] == 'VV+EF' or tagger2010[i][1] == 'VA+EF' or tagger2010[i][1] == 'VX+EF':\n",
        "    for j in range(len(PropV)):\n",
        "      if PropV[j][0] == tagger2010[i][0]:\n",
        "        probabilities.append(PropV[j][1])\n",
        "V_entropy2010 = -sum(p * np.log2(p) for p in probabilities)\n",
        "print('2010년대의 술어 엔트로피: ',V_entropy2010)"
      ],
      "metadata": {
        "colab": {
          "base_uri": "https://localhost:8080/"
        },
        "id": "x6cwnfAMb-4S",
        "outputId": "939d866a-1f3b-45c6-fe5c-5d93191c221c"
      },
      "execution_count": 38,
      "outputs": [
        {
          "output_type": "stream",
          "name": "stdout",
          "text": [
            "2010년대의 전체 엔트로피:  1631.5302793525857\n",
            "2010년대의 주제어 엔트로피:  58.78537839260175\n",
            "2010년대의 목적어 엔트로피:  51.08116703838611\n",
            "2010년대의 술어 엔트로피:  69.42160325098888\n"
          ]
        }
      ]
    },
    {
      "cell_type": "code",
      "source": [
        "data = {\n",
        "    'Decade': ['1960s', '1970s', '1980s', '1990s', '2000s', '2010s'],\n",
        "    'Total': [1768.0599521738764, 1753.4284560560484, 1726.2173003455093, 1751.7039636833563, 1631.0066633597387, 1631.5302793525857],\n",
        "    'Subject': [85.02432453820575, 82.3312474033558, 71.47532270745086, 70.56488106799807, 65.57656249735682, 58.78537839260175],\n",
        "    'Object': [55.29333324227508, 60.0771187006228, 63.08317478083805, 59.39898260650625, 50.22306056287259, 51.08116703838611],\n",
        "    'Verb': [88.1783268942085, 88.32774612450808, 68.5674565063418, 70.8458384483341, 49.94136036095482, 69.42160325098888]\n",
        "}\n",
        "\n",
        "Entropy_Table = pd.DataFrame(data)\n",
        "Entropy_Table.set_index('Decade', inplace=True)\n",
        "print(Entropy_Table)"
      ],
      "metadata": {
        "colab": {
          "base_uri": "https://localhost:8080/"
        },
        "id": "p7ReTkgffSZq",
        "outputId": "4599ac4a-dc8f-4921-acf6-3c676e5ae96f"
      },
      "execution_count": 60,
      "outputs": [
        {
          "output_type": "stream",
          "name": "stdout",
          "text": [
            "              Total    Subject     Object       Verb\n",
            "Decade                                              \n",
            "1960s   1768.059952  85.024325  55.293333  88.178327\n",
            "1970s   1753.428456  82.331247  60.077119  88.327746\n",
            "1980s   1726.217300  71.475323  63.083175  68.567457\n",
            "1990s   1751.703964  70.564881  59.398983  70.845838\n",
            "2000s   1631.006663  65.576562  50.223061  49.941360\n",
            "2010s   1631.530279  58.785378  51.081167  69.421603\n"
          ]
        }
      ]
    },
    {
      "cell_type": "code",
      "source": [
        "print('1960 주제어 상대엔트로피',round(S_entropy1960/entropy1960*100,4))\n",
        "print('1960 목적어 상대엔트로피',round(O_entropy1960/entropy1960*100,3))\n",
        "print('1960 술어 상대엔트로피',round(V_entropy1960/entropy1960*100,3))\n",
        "print('1970 주제어 상대엔트로피',round(S_entropy1970/entropy1970*100,3))\n",
        "print('1970 목적어 상대엔트로피',round(O_entropy1970/entropy1970*100,3))\n",
        "print('1970 술어 상대엔트로피',round(V_entropy1970/entropy1970*100,3))\n",
        "print('1980 주제어 상대엔트로피',round(S_entropy1980/entropy1980*100,3))\n",
        "print('1980 목적어 상대엔트로피',round(O_entropy1980/entropy1980*100,3))\n",
        "print('1980 술어 상대엔트로피',round(V_entropy1980/entropy1980*100,3))\n",
        "print('1990 주제어 상대엔트로피',round(S_entropy1990/entropy1990*100,3))\n",
        "print('1990 목적어 상대엔트로피',round(O_entropy1990/entropy1990*100,3))\n",
        "print('1990 술어 상대엔트로피',round(V_entropy1990/entropy1990*100,3))\n",
        "print('2000 주제어 상대엔트로피',round(S_entropy2000/entropy2000*100,3))\n",
        "print('2000 목적어 상대엔트로피',round(O_entropy2000/entropy2000*100,3))\n",
        "print('2000 술어 상대엔트로피',round(V_entropy2000/entropy2000*100,3))\n",
        "print('2010 주제어 상대엔트로피',round(S_entropy2010/entropy2010*100,3))\n",
        "print('2010 목적어 상대엔트로피',round(O_entropy2010/entropy2010*100,3))\n",
        "print('2010 술어 상대엔트로피',round(V_entropy2010/entropy2010*100,3))"
      ],
      "metadata": {
        "colab": {
          "base_uri": "https://localhost:8080/"
        },
        "id": "eKS_VJHNczIU",
        "outputId": "64a457fd-dcae-4f7d-fba9-0675e1fa8ad2"
      },
      "execution_count": 43,
      "outputs": [
        {
          "output_type": "stream",
          "name": "stdout",
          "text": [
            "1960 주제어 상대엔트로피 4.8089\n",
            "1960 목적어 상대엔트로피 3.127\n",
            "1960 술어 상대엔트로피 4.987\n",
            "1970 주제어 상대엔트로피 4.695\n",
            "1970 목적어 상대엔트로피 3.426\n",
            "1970 술어 상대엔트로피 5.037\n",
            "1980 주제어 상대엔트로피 4.141\n",
            "1980 목적어 상대엔트로피 3.654\n",
            "1980 술어 상대엔트로피 3.972\n",
            "1990 주제어 상대엔트로피 4.028\n",
            "1990 목적어 상대엔트로피 3.391\n",
            "1990 술어 상대엔트로피 4.044\n",
            "2000 주제어 상대엔트로피 4.021\n",
            "2000 목적어 상대엔트로피 3.079\n",
            "2000 술어 상대엔트로피 3.062\n",
            "2010 주제어 상대엔트로피 3.603\n",
            "2010 목적어 상대엔트로피 3.131\n",
            "2010 술어 상대엔트로피 4.255\n"
          ]
        }
      ]
    },
    {
      "cell_type": "code",
      "source": [
        "print('1960 평균 상대엔트로피',round(((S_entropy1960+O_entropy1960+V_entropy1960)/entropy1960)*100,4))\n",
        "print('1970 평균 상대엔트로피',round(((S_entropy1970+O_entropy1970+V_entropy1970)/entropy1970)*100,4))\n",
        "print('1980 평균 상대엔트로피',round(((S_entropy1980+O_entropy1980+V_entropy1980)/entropy1980)*100,4))\n",
        "print('1990 평균 상대엔트로피',round(((S_entropy1990+O_entropy1990+V_entropy1990)/entropy1990)*100,4))\n",
        "print('2000 평균 상대엔트로피',round(((S_entropy2000+O_entropy2000+V_entropy2000)/entropy2000)*100,4))\n",
        "print('2010 평균 상대엔트로피',round(((S_entropy2010+O_entropy2010+V_entropy2010)/entropy2010)*100,4))\n"
      ],
      "metadata": {
        "colab": {
          "base_uri": "https://localhost:8080/"
        },
        "id": "w-Ha76G9d2lQ",
        "outputId": "f6d94454-14ad-401d-8675-4008f07b577e"
      },
      "execution_count": 45,
      "outputs": [
        {
          "output_type": "stream",
          "name": "stdout",
          "text": [
            "1960 평균 상대엔트로피 12.9235\n",
            "1970 평균 상대엔트로피 13.1591\n",
            "1980 평균 상대엔트로피 11.7671\n",
            "1990 평균 상대엔트로피 11.4637\n",
            "2000 평균 상대엔트로피 10.1619\n",
            "2010 평균 상대엔트로피 10.989\n"
          ]
        }
      ]
    },
    {
      "cell_type": "code",
      "source": [
        "import matplotlib.pyplot as plt\n",
        "import seaborn as sns\n",
        "import pandas as pd\n",
        "\n",
        "data1 = {\n",
        "    'Year': [1960, 1960, 1960, 1970, 1970, 1970, 1980, 1980, 1980, 1990, 1990, 1990, 2000, 2000, 2000, 2010, 2010, 2010],\n",
        "    'Type': ['Subject', 'Object', 'Verb', 'Subject', 'Object', 'Verb', 'Subject', 'Object', 'Verb',\n",
        "             'Subject', 'Object', 'Verb', 'Subject', 'Object', 'Verb', 'Subject', 'Object', 'Verb'],\n",
        "    'RelativeEntropy': [4.8089, 3.127, 4.987, 4.695, 3.426, 5.037, 4.141, 3.654, 3.972, 4.028, 3.391, 4.044, 4.021, 3.079, 3.062, 3.603, 3.131, 4.255]\n",
        "}\n",
        "\n",
        "data2 = {\n",
        "    'Year': [1960, 1970, 1980, 1990, 2000, 2010],\n",
        "    'AverageRelativeEntropy': [12.9235, 13.1591, 11.7671, 11.4637, 10.1619, 10.989]\n",
        "}\n",
        "\n",
        "df1 = pd.DataFrame(data1)\n",
        "df2 = pd.DataFrame(data2)\n",
        "\n",
        "fig, axes = plt.subplots(1, 2, figsize=(12, 5))\n",
        "\n",
        "sns.lineplot(ax=axes[0], data=df1, x='Year', y='RelativeEntropy', hue='Type', marker='o')\n",
        "axes[0].set_title('Relative Entropy by Type Over Time', fontsize=16)\n",
        "axes[0].set_xlabel('Year', fontsize=14)\n",
        "axes[0].set_ylabel('Relative Entropy', fontsize=14)\n",
        "axes[0].legend(title='Type')\n",
        "\n",
        "sns.lineplot(ax=axes[1], data=df2, x='Year', y='AverageRelativeEntropy', marker='o')\n",
        "axes[1].set_title('Average Relative Entropy Over Time', fontsize=16)\n",
        "axes[1].set_xlabel('Year', fontsize=14)\n",
        "axes[1].set_ylabel('Average Relative Entropy', fontsize=14)\n",
        "\n",
        "plt.tight_layout()\n",
        "plt.show()"
      ],
      "metadata": {
        "colab": {
          "base_uri": "https://localhost:8080/",
          "height": 507
        },
        "id": "UC-D6H1OehfD",
        "outputId": "c8ea5072-01ba-49d9-8a61-02e4dbed166b"
      },
      "execution_count": 53,
      "outputs": [
        {
          "output_type": "display_data",
          "data": {
            "text/plain": [
              "<Figure size 1200x500 with 2 Axes>"
            ],
            "image/png": "[encoded data removed]"
          },
          "metadata": {}
        }
      ]
    }
  ]
}