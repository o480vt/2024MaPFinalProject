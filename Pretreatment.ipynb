{
 "cells": [
  {
   "cell_type": "markdown",
   "metadata": {},
   "source": [
    "참고문헌<br>\n",
    "박은정, 조성준, “KoNLPy: 쉽고 간결한 한국어 정보처리 파이썬 패키지”, 제 26회 한글 및 한국어 정보처리 학술대회 논문집, 2014."
   ]
  },
  {
   "cell_type": "code",
   "execution_count": 6,
   "metadata": {},
   "outputs": [],
   "source": [
    "import pandas as pd\n",
    "import numpy as np\n",
    "import matplotlib.pyplot as plt\n",
    "from collections import Counter"
   ]
  },
  {
   "cell_type": "code",
   "execution_count": 7,
   "metadata": {},
   "outputs": [],
   "source": [
    "def calculate_entropy(sentence):\n",
    "    # 문장을 단어로 분리하고 빈도 계산\n",
    "    words = sentence.split()\n",
    "    word_counts = Counter(words)\n",
    "    total_words = len(words)\n",
    "    \n",
    "    # 각 단어의 확률 계산\n",
    "    probabilities = [count / total_words for count in word_counts.values()]\n",
    "    \n",
    "    # 엔트로피 계산\n",
    "    entropy = -sum(p * np.log2(p) for p in probabilities)\n",
    "    return entropy"
   ]
  },
  {
   "cell_type": "code",
   "execution_count": null,
   "metadata": {},
   "outputs": [],
   "source": [
    "import pandas as pd\n",
    "import xml.etree.ElementTree as ET\n",
    "from urllib.request import urlopen\n",
    "from tqdm import trange\n",
    "\n",
    "url = \"https://www.law.go.kr/DRF/lawSearch.do?OC=o480vt&target=prec&type=XML\"\n",
    "response = urlopen(url).read()\n",
    "xtree = ET.fromstring(response)\n",
    "\n",
    "totalCnt = int(xtree.find('totalCnt').text)\n",
    "\n",
    "page = 1\n",
    "rows = []\n",
    "for i in trange(int(totalCnt / 20)):\n",
    "    try:\n",
    "        items = xtree[5:]\n",
    "    except:\n",
    "        break\n",
    "        \n",
    "    for node in items:\n",
    "        판례일련번호 = node.find('판례일련번호').text\n",
    "        사건명 = node.find('사건명').text\n",
    "        사건번호 = node.find('사건번호').text\n",
    "        선고일자 = node.find('선고일자').text\n",
    "        법원명 = node.find('법원명').text\n",
    "        사건종류명 = node.find('사건종류명').text\n",
    "        사건종류코드 = node.find('사건종류코드').text\n",
    "        판결유형 = node.find('판결유형').text\n",
    "        선고 = node.find('선고').text\n",
    "        판례상세링크 = node.find('판례상세링크').text\n",
    "\n",
    "        rows.append({'판례일련번호': 판례일련번호,\n",
    "                    '사건명': 사건명,\n",
    "                    '사건번호': 사건번호,\n",
    "                    '선고일자': 선고일자,\n",
    "                    '법원명': 법원명,\n",
    "                    '사건종류명': 사건종류명,\n",
    "                    '사건종류코드': 사건종류코드,\n",
    "                    '판결유형': 판결유형,\n",
    "                    '선고': 선고,\n",
    "                    '판례상세링크': 판례상세링크})\n",
    "    page += 1\n",
    "    url = \"https://www.law.go.kr/DRF/lawSearch.do?OC=o480vtimport pandas as pd\n",
    "import xml.etree.ElementTree as ET\n",
    "from urllib.request import urlopen\n",
    "from tqdm import trange\n",
    "import re\n",
    "import os&target=prec&type=XML&page={}\".format(page)\n",
    "    response = urlopen(url).read()\n",
    "    xtree = ET.fromstring(response)\n",
    "cases = pd.DataFrame(rows)\n",
    "cases.to_csv('./cases.csv', index=False)"
   ]
  },
  {
   "cell_type": "code",
   "execution_count": null,
   "metadata": {},
   "outputs": [],
   "source": [
    "import pandas as pd\n",
    "import xml.etree.ElementTree as ET\n",
    "from urllib.request import urlopen\n",
    "from tqdm import trange\n",
    "import re\n",
    "import os\n",
    "\n",
    "case_list = pd.read_csv('./2010cases.csv')\n",
    "contents = ['판례내용']\n",
    "\n",
    "def remove_tag(content):\n",
    "    cleaned_text = re.sub('<.*?>', '', content)\n",
    "    return cleaned_text\n",
    "\n",
    "for content in contents:\n",
    "    os.makedirs('./판례/{}'.format(content), exist_ok=True)\n",
    "\n",
    "for i in trange(len(case_list)):\n",
    "    url = \"https://www.law.go.kr\"\n",
    "    link = case_list.loc[i]['판례상세링크'].replace('HTML', 'XML')\n",
    "    url += link\n",
    "    response = urlopen(url).read()\n",
    "    xtree = ET.fromstring(response)\n",
    "\n",
    "    for content in contents:\n",
    "        text = xtree.find(content).text\n",
    "        # 내용이 존재하지 않는 경우 None 타입이 반환되기 때문에 이를 처리해줌\n",
    "        if text is None:\n",
    "            text = '내용없음'\n",
    "        else:\n",
    "            text = remove_tag(text)\n",
    "        file = './판례/' + content + '/' + xtree.find('판례정보일련번호').text + '.txt'\n",
    "        with open(file, 'w') as c:\n",
    "            c.write(text)\n",
    "            c.close()"
   ]
  },
  {
   "cell_type": "code",
   "execution_count": 15,
   "metadata": {},
   "outputs": [],
   "source": [
    "import os\n",
    "\n",
    "def replace_string_in_files(directory, target_string, replacement_string):\n",
    "    for root, dirs, files in os.walk(directory):\n",
    "        for file in files:\n",
    "            if file.endswith(\".txt\"):\n",
    "                file_path = os.path.join(root, file)\n",
    "                with open(file_path, 'r', encoding='utf-8') as f:\n",
    "                    file_contents = f.read() \n",
    "                new_contents = file_contents.replace(target_string, replacement_string)                \n",
    "                with open(file_path, 'w', encoding='utf-8') as f:\n",
    "                    f.write(new_contents)\n",
    "\n"
   ]
  },
  {
   "cell_type": "code",
   "execution_count": 17,
   "metadata": {},
   "outputs": [],
   "source": [
    "directory = '판례/판례내용1960'\n",
    "target_string = '대법원판사 '\n",
    "replacement_string = '대법관 '\n",
    "replace_string_in_files(directory, target_string, replacement_string)"
   ]
  },
  {
   "cell_type": "code",
   "execution_count": 18,
   "metadata": {},
   "outputs": [],
   "source": [
    "directory = '판례/판례내용1970'\n",
    "target_string = '대법원판사 '\n",
    "replacement_string = '대법관 '\n",
    "replace_string_in_files(directory, target_string, replacement_string)"
   ]
  },
  {
   "cell_type": "code",
   "execution_count": 19,
   "metadata": {},
   "outputs": [],
   "source": [
    "directory = '판례/판례내용1980'\n",
    "target_string = '대법원판사 '\n",
    "replacement_string = '대법관 '\n",
    "replace_string_in_files(directory, target_string, replacement_string)"
   ]
  },
  {
   "cell_type": "code",
   "execution_count": 20,
   "metadata": {},
   "outputs": [],
   "source": [
    "directory = '판례/판례내용1990'\n",
    "target_string = '대법원판사 '\n",
    "replacement_string = '대법관 '\n",
    "replace_string_in_files(directory, target_string, replacement_string)"
   ]
  },
  {
   "cell_type": "code",
   "execution_count": 21,
   "metadata": {},
   "outputs": [],
   "source": [
    "directory = '판례/판례내용2000'\n",
    "target_string = '대법원판사 '\n",
    "replacement_string = '대법관 '\n",
    "replace_string_in_files(directory, target_string, replacement_string)"
   ]
  },
  {
   "cell_type": "code",
   "execution_count": 22,
   "metadata": {},
   "outputs": [],
   "source": [
    "directory = '판례/판례내용201'\n",
    "target_string = '대법원판사 '\n",
    "replacement_string = '대법관 '\n",
    "replace_string_in_files(directory, target_string, replacement_string)"
   ]
  },
  {
   "cell_type": "code",
   "execution_count": 23,
   "metadata": {},
   "outputs": [],
   "source": [
    "import os\n",
    "\n",
    "def read_files_to_list(directory, start_char, end_char):\n",
    "    extracted_contents = []\n",
    "    \n",
    "    for filename in os.listdir(directory):\n",
    "        if filename.endswith(\".txt\"):\n",
    "            with open(os.path.join(directory, filename), 'r', encoding='utf-8') as file:\n",
    "                content = file.read()\n",
    "                start_idx = content.find(start_char)\n",
    "                end_idx = content.find(end_char, start_idx + 1)\n",
    "               \n",
    "                if start_idx != -1 and end_idx != -1:\n",
    "                    extracted_content = content[start_idx + len(start_char):end_idx]\n",
    "                    extracted_contents.append(extracted_content)\n",
    "    return extracted_contents\n"
   ]
  },
  {
   "cell_type": "code",
   "execution_count": 24,
   "metadata": {},
   "outputs": [
    {
     "name": "stdout",
     "output_type": "stream",
     "text": [
      "  피고 소송대리인의 상고이유는 별지로 붙인 상고 이유서에 쓰여져 있는 것과 같다.  상고이유를 검토하여 보건대 기록을 조사하여 본즉 원심이 보는 바와 같이 피고가 소론 유치권의 항변을 제출한 것은 원심 제4회 변론중이었으며 원심에서도 그 이전에도 변론기일이 1.2.3회나 경유 되었었고 피고는 1심에서도 원고의 본소 건물철거와 대지명도의 청구에 대하여 유치권의 항변을 주장할 수 있었을 뿐 아니라 공소심인 원심에서도 제1.2.3회 변론 기일에 조차 그 항변을 넉넉히 주장할 수 있었을 것인데 만연히 그 주장을 하지 않고 제4회 변론기일에 비로소 그 주장을 한 것은 피고가 시기에 늦어서 방어방법을 제출한 것이라 볼 것이고 만일 그 항변의 제출을 허용한다면 소송의 완결에 지연을 가져올것은 분명한 일인즉 같은 취지에서 피고의 유치권 항변의 제출을 각하한 것은 정당하며 반대의 입장에서 원 판결에 심리미진의 위법이 있다는 논지는 이유 없다.   관여한 법관 전원의 일치된 의견으로 주문과 같이 판결한다\n"
     ]
    }
   ],
   "source": [
    "directory_path = '판례/판례내용1960'  # replace with your directory path\n",
    "start_char = '【이    유】'  # replace with your actual start character\n",
    "end_char = '대법관 '  # replace with your actual end character\n",
    "extracted_list_1960 =  []\n",
    "extracted_list_1960 = read_files_to_list(directory_path, start_char, end_char)\n",
    "print(extracted_list_1960 [5])"
   ]
  },
  {
   "cell_type": "code",
   "execution_count": 25,
   "metadata": {},
   "outputs": [
    {
     "name": "stdout",
     "output_type": "stream",
     "text": [
      "  재항고대리인의 재항고이유에 대한 판단,  등기공무원이 일단 등기신청을 받아들여 등기기입을 마친 경우에는 등기공무원은 그 등기가 부동산등기법 제55조 제1, 2호, 제175조에 해당하는 경우라면 몰라도 동 제55조 제3호 이하에 해당하는 사유로서는 이를 직권으로 말소할 수 없고, 이 등기에 대하여는 소송으로서 다투는 것은 별론으로 하고, 등기공무원의 처분에 대한 이의의 방법으로 그 등기의 말소를 구할 수 없다 할 것이고, 동법 제31조, 제48조에 의하면 등기명의인표시의 경정등기신청에는 이를 증명하는 서면을 첨부하여 그 등기명의자만으로 신청할 수 있다고 되어 있는바, 기록에 의하면 본건에 있어서는 등기신청당시 소유권등기명의자 표시에 착오가 있다는 이유로 등기명의인표시의 경정등기신청을 하였음을 알 수 있고, 동법 제55조 제2호에서 말하는 \"사건이 등기할 것이 아닌 때\"라는 것은 주로 신청이 그 취지 자체에 있어서 기히 법률상 허용할 수 없음이 명백한 경우를 말하는 것이고 본건과 같은 경우에는 동조 제8호에서 소위 \"신청서에 필요한 서면을 첨부하지 아니한 때\"에 해당한다 할 것이므로 원결정이 위에서와 같은 취지에서 본건 이의신청은 부당하다 하여 항고를 기각한 조처는 정당하고, 다만 원결정이 유지한 제1심 결정에서 경정에 있어서 경정전의 등기와 경정후의 등기간에 동일성 문제에 대하여 그 설시에 다소 미흡한 점이 있기는 하나 이는 위 결정결과에는 영향이 없으므로 논지는 받아드릴 수 없다.  그러므로 재항고를 기각하기로 하여 관여법관의 일치된 의견으로 주문과 같이 결정한다.\n"
     ]
    }
   ],
   "source": [
    "directory_path = '판례/판례내용1970'  # replace with your directory path\n",
    "start_char = '【이    유】'  # replace with your actual start character\n",
    "end_char = '대법관 '  # replace with your actual end character\n",
    "extracted_list_1970 = []\n",
    "extracted_list_1970 = read_files_to_list(directory_path, start_char, end_char)\n",
    "print(extracted_list_1970[0])"
   ]
  },
  {
   "cell_type": "code",
   "execution_count": 26,
   "metadata": {},
   "outputs": [
    {
     "name": "stdout",
     "output_type": "stream",
     "text": [
      "  1.  피고 소송대리인의 상고이유 제 1 점에 대하여,  원심은 그 거시의 증거에 의하여, \n",
      "        원고는 이 사건사고 당시인 1977. 1. 26 서울대학교 농과대학 농업교육학과 4학년에 재학중이었고 그 해 2. 26 위 대학을 졸업하고 중등학교 2급 정교사 자격을 취득한 사실을 인정하고, 그렇다면 특별한 사정이 없는 한 원고는 군복무를 마치고 중등학교 실과교원으로 임용되어 교육공무원의 정년이 되기까지 계속 근무하여 수입을 얻을 수 있을 것이라고 판시하고 있는바 이와 같은 원심의 판단은 수긍이 가고(\n",
      "        당원 1980.4.8. 선고 79다76 판결 참조), 거기에 소론이 지적하는 바와 같은 채증법칙의 위배나 장래의 수익에 관한 법리오해의 위배가 있음을 발견할 수 없으므로 논지는 채용할 수 없다.\n",
      "        2.  동 제 2 점에 대하여,  원심은 제 1 심 법원이 감정인으로 지정한 의사 박병문의 감정결과를 증거로 채용하고 있는바, 동인이 정신과 전문의사가 아니라는 이유만으로 동인의 감정결과를 채택한 원심의 조치가 위법하다고 할 수 없고, 원심이 동 감정결과에 의하여 원고는 이 사건 사고로 입은 상해의 휴유증으로 이 사건 사고 당시부터 1982. 2. 4경까지 성인남자의 계호인이 필요한 사실을 인정하고, 이러한 계호인의 보수로서는 특별한 사정이 없는 한 원고 주소지인 도시 일반노동자의 임금이 지급되어야 할 것이라고 판시하고 있는 바, 이러한 원심의 사실인정 과정에 소론이 지적하는 바와 같은 심리미진이나 석명권 불행사의 위법이 있음을 발견할 수 없고, 피고가 이미 지급한 치료비가 있으므로 이를 공제하여야 할 것이라는 주장을 변론종결에 이르기까지 하지 아니한 이 사건에 있어 원심이 이를 판단할 필요가 없었던 것이라고 할 것이니(\n",
      "        당원 1980.2.26. 선고 79다2265 판결 참조) 논지는 모두 채용할 수 없다.\n",
      "        3.  원고 소송대리인의 상고이유에 대하여, 원심은 그 인용한 제 1 심 판결 거시의 증거에 의하여 이 사건 사고에는 원고의 그 설시와 같은 과실도 경합된 사실을 인정하고, 피고가 원고에게 배상하여야 할 손해배상액을 정함에 있어 이를 참작하고 있는바, 원심의 이러한 사실인정 과정에 소론이 지적하는 바와 같은 위법이 있음을 발견할 수 없고, 원심이 한 과실상계의 비율도 적절하다고 인정되므로 논지는 채용할 수가 없다.  4. 그러므로 원고와 피고의 상고를 모두 기각하고, 상고 소송비용은 패소자의 부담으로 하기로 하여 관여법관의 일치된 의견으로 주문과 같이 판결한다.\n"
     ]
    }
   ],
   "source": [
    "directory_path = '판례/판례내용1980'\n",
    "start_char = '【이    유】' \n",
    "end_char = '대법관 '\n",
    "extracted_list_1980 = []\n",
    "extracted_list_1980 = read_files_to_list(directory_path, start_char, end_char)\n",
    "print(extracted_list_1980[0])"
   ]
  },
  {
   "cell_type": "code",
   "execution_count": 27,
   "metadata": {},
   "outputs": [
    {
     "name": "stdout",
     "output_type": "stream",
     "text": [
      "  상고이유를 본다.   1. 원심판결 이유에 의하면, 원심은 이 사건 대지에 관하여 1915.5.11. 소외 1 앞으로 사정되고, 1918.6.28. 그 명의로 소유권보존등기까지 경료되었다가, 1991.7.4. 수복지역내소유자미복구토지의복구등록과보존등기등에관한특별조치법(법률 제3627호)에 의하여 원고 명의로 소유권보존등기가 경료된 사실을 인정한 뒤, 원고 명의의 위 소유권보존등기가 허위의 보증서와 확인서에 의하여 경료된 것으로서 무효라는 피고의 주장에 대하여는 그에 부합하는 증거는 믿지 아니하고, 그 밖에 이를 인정할 증거가 없다고 하여 배척하고 있는바, 원심의 이러한 사실인정 및 판단은 원심판결이 설시한 증거 관계에 비추어 정당한 것으로 수긍이 되고, 그 과정에 소론과 같이 채증법칙에 위배하여 사실을 잘못 인정한 위법이 있다고 볼 수 없다.   2.         타인 소유의 토지에 관하여 수복지역내소유자미복구토지의복구등록과보존등기등에관한특별조치법에 따라 소유권보존등기를 경료한 자는 그 보존등기에 의하여 비로소 소유자가 된다고 할 것이고, 그 등기가 경료되기 전에 그 토지를 점유하는 자의 취득시효 기간이 경과되었다면, 등기명의인은 점유자의 시효완성 후의 새로운 이해관계자라 할 것이므로, 점유자로서는 취득시효 완성으로 그 등기명의인에 대항할 수 없다고 할 것이다.         원심이 같은 취지에서 피고의 취득시효 완성 주장을 배척한 것은 정당하고, 거기에 어떤 위법이 있다고 할 수 없다. 논지는 이유 없다.   3. 그러므로 상고를 기각하고 상고비용은 패소자의 부담으로 하기로 하여 관여 법관의 일치된 의견으로 주문과 같이 판결한다. \n"
     ]
    }
   ],
   "source": [
    "directory_path = '판례/판례내용1990'\n",
    "start_char = '【이    유】' \n",
    "end_char = '대법관 '\n",
    "extracted_list_1990 = []\n",
    "extracted_list_1990 = read_files_to_list(directory_path, start_char, end_char)\n",
    "print(extracted_list_1990[0])"
   ]
  },
  {
   "cell_type": "code",
   "execution_count": 28,
   "metadata": {},
   "outputs": [
    {
     "name": "stdout",
     "output_type": "stream",
     "text": [
      "  상고이유를 판단한다.  1. 예치금 반환의무의 지연으로 인한 손해에 관한 주장  원심판결 이유에 의하면, 원심은, 판시 인정 사실을 토대로 하여, 피고는 원고에게 판시 예치금 반환 지체로 인한 지연손해금을 지급할 의무가 있다고 판단한 다음, 피고의 예치금 반환의무와 원고의 근저당권설정등기 말소의무가 동시이행관계에 있고 원고가 근저당권설정등기의 말소에 필요한 서류를 교부하는 등 이행의 제공을 하지 않았으므로 피고에게 예치금 반환의 지체에 대한 책임이 없다는 피고의 주장에 대하여, 먼저 근저당권설정자는 피담보채무를 모두 변제한 후에야 근저당권자에게 근저당권의 말소를 구할 수 있을 뿐이고, 또 당사자가 명확하게 근저당권설정계약을 체결하고 그 등기를 마친 이상 이를 전세권에서의 법률관계와 같이 해석할 수도 없으며, 나아가 원고와 피고 사이에 작성된 2003. 11. 11.자 합의서 제6항에 ‘원고는 피고에게 예치금 수령과 동시에 근저당설정을 해지한다.’고 기재되어 있기는 하나, 근저당권 설정 당시 선이행의무로 되어 있는 피고의 예치금 반환의무를 근저당권설정등기 말소의무와 동시이행관계로 전환할 만한 특별한 사정이 보이지 않는 이상 그 취지는 예치금을 수령한 후 즉시 근저당권을 말소하여 준다는 의미로 봄이 상당하다는 이유로, 피고의 위 주장을 배척하였는바, 관련 법리와 기록에 비추어 살펴보면, 원심의 이러한 판단은 정당하고, 거기에 예치금 반환과 관련된 동시이행관계에 관한 법리오해 등의 위법이 있다고 볼 수 없다.  2. 임대료 및 휴업수당·해고예고수당 상당의 손해에 관한 주장민법 제391조의 이행보조자로서의 피용자라 함은 일반적으로 채무자의 의사관여 아래 그 채무의 이행행위에 속하는 활동을 하는 사람이면 족하고, 반드시 채무자의 지시 또는 감독을 받는 관계에 있어야 하는 것은 아니므로 채무자에 대하여 종속적인가 또는 독립적인 지위에 있는가는 문제되지 않는다\n",
      "        (\n",
      "        대법원 2002. 7. 12. 선고 2001다44338 판결 등 참조). 다만, \n",
      "        이행보조자의 행위가 채무자에 의하여 그에게 맡겨진 이행업무와 객관적, 외형적으로 관련을 가지는 경우에는 채무자는 그 행위에 대하여 책임을 져야 하고, 채무의 이행에 관련된 행위이면 가사 이행보조자의 행위가 채권자에 대한 불법행위가 된다고 하더라도 채무자가 면책될 수는 없다(\n",
      "        대법원 1990. 8. 28. 선고 90다카10343 판결 등 참조).\n",
      "        원심은, 판시 인정 사실을 토대로 하여, 피고는 이 사건 계약에 따라 클럽하우스 내 식당 등의 영업장을 원고의 사용, 수익에 필요한 상태로 유지하여야 할 계약상 의무가 있는데, 피고의 이행보조자인 \n",
      "        소외인 등 일반직원과 경기보조원들이 클럽하우스 등을 무단 점거하는 바람에 원고로 하여금 클럽하우스 내 식당 등에서 영업을 하지 못하고 35일 동안 휴업을 하면서 임대료 상당의 손해를 입게 하였고, 원고는 \n",
      "        소외인 등 피고 직원들의 계속되는 불법점거로 인하여 더 이상의 정상적인 영업이 어렵게 되자 이 사건 계약을 해지하였으며, 게다가 갑작스런 계약의 해지에 따라 영업장에서 근무하던 직원들을 불가피하게 해고할 수밖에 없었고, 그 과정에서 근로기준법의 규정에 따라 휴업수당과 해고예고수당을 지급하여야만 하였으므로, 결국 피고의 이행보조자인 직원들이 원고의 영업장을 불법으로 점거하는 행위는 채무의 이행에 관련된 행위이고, 그와 같은 행위에서의 피고 직원들의 고의, 과실은 피고의 고의, 과실이라 할 것이므로, 피고에게는 이 사건 계약상의 채무불이행책임이 있다고 판단하였는바, 앞서 본 법리와 기록에 비추어 살펴보면, 원심의 이러한 판단은 정당한 것으로 수긍이 가고, 거기에 임대인의 채무불이행책임, 이행보조자의 불법점거와 관련된 채무자의 계약상 책임에 관한 법리오해 등의 위법이 있다고 볼 수 없다.\n",
      "        또한 원심은, 판시 사실을 인정한 다음, 원고가 피고 일반직원 및 경기보조원들의 불법점거로 인하여 35일 동안 휴업을 하다가 불가피하게 이 사건 계약을 해지하고 영업장에서 영양사 및 조리원 등으로 일하던 직원들을 해고하는 등 그 과정에서 지급한 판시 휴업수당 및 해고예고수당도 피고의 채무불이행과 상당인과관계가 있는 손해에 해당한다고 판단하였는바, 관련 법리와 기록에 비추어 살펴보면, 원심의 이러한 사실인정과 판단은 정당한 것으로 수긍이 가고, 거기에 손해배상의 범위에 관한 법리오해, 이유불비, 판단유탈 등의 위법이 있다고 볼 수 없다.  3. 그러므로 상고를 기각하고, 상고비용은 패소자인 피고가 부담하게 하기로 하여 관여 대법관의 일치된 의견으로 주문과 같이 판결한다.\n"
     ]
    }
   ],
   "source": [
    "directory_path = '판례/판례내용2000'\n",
    "start_char = '【이    유】' \n",
    "end_char = '대법관 '\n",
    "extracted_list_2000 = []\n",
    "extracted_list_2000 = read_files_to_list(directory_path, start_char, end_char)\n",
    "print(extracted_list_2000[0])"
   ]
  },
  {
   "cell_type": "code",
   "execution_count": 29,
   "metadata": {},
   "outputs": [
    {
     "name": "stdout",
     "output_type": "stream",
     "text": [
      "  상고이유를 본다.  1. 상고이유 제1 내지 4점에 대하여  원심판결 이유에 의하면, 원심은 그 채용 증거에 의하여 이 사건 신탁계약 제12조는 신탁재산으로 ‘신탁부동산 및 신탁금(제1호), 신탁부동산 분양대금(계약금 및 중도금 포함)(제2호), 신탁부동산의 물상대위로 취득한 재산(제3호), 신탁부동산의 임대에 따른 임대보증금 및 임료(제4호), 신탁부동산의 분양(처분) 및 임대와 관련하여 취득한 보증금 등의 상환채무(제5호), 제4조에 의한 차입금(제6호), 제1호 내지 제6호에 속하는 금전의 운용수익(제7호), 기타 신탁사무처리에서 발생한 자산 및 채무(제8호)’를 열거하고 있고, 제18조 제1항은 ‘신탁재산에 대한 조세, 공과금 및 등기비용 등은 수익자(\n",
      "        이하 ‘소외 주식회사’라 한다)의 부담으로 한다’라고, 제2항은 ‘을(원고)은 제1항의 비용을 신탁재산에서 지급하고, 지급할 수 없는 경우에는 수익자에게 청구 수령하여 지급할 수 있으며, 필요한 경우에는 미리 수익자에게 상당한 금액을 예탁하게 할 수 있다’라고 각 규정하고 있는데, 이에 따라 원고는 \n",
      "        소외 주식회사 명의의 세금계산서 발행 및 부가가치세 신고, 납부, 환급 등 세금 및 회계에 관한 모든 업무를 대행하였고, \n",
      "        소외 주식회사 명의로 부가가치세 신고 및 납부의무를 이행해야 할 경우에는 원고가 부가가치세 신고를 행한 후 \n",
      "        소외 주식회사에게 해당 금원을 지급하여 납부하게 하거나 원고가 직접 \n",
      "        소외 주식회사 명의로 납부하였으며, 환급금이 있으면 이를 \n",
      "        소외 주식회사 명의로 수령하여 신탁재산에 편입시켰던 사실, 농업협동조합중앙회(이하 ‘농협중앙회’라 한다)가 이 사건 수익권에 대한 근질권의 실행을 위하여 2005. 12. 5.경 이 사건 수익권을 105억 원에 매도하는 계약을 체결하자, 원고는 2005. 12. 15. 농협중앙회에게 위 수익권의 양도 및 수익자의 변경에 동의해 준 사실 등을 인정하고, 위 인정 사실에 의하면, 이 사건 수익권은 이 사건 신탁계약에서 정한 신탁재산이 아니어서 이 사건 수익권 양도에 따른 부가가치세 신고는 원고가 위 신탁계약에 따라 대행할 의무가 있는 업무라 할 수 없고, 그 신고에 따른 이 사건 부가가치세 역시 신탁재산에서 지급할 수 없으며 원고가 \n",
      "        소외 주식회사에게 청구·수령하여 지급할 의무가 있는 업무라 할 수 없으므로, 비록 원고가 위 수익권 양도 및 수익자의 변경에 동의한 바 있어 위 수익권 양도사실을 알고 있었다 하더라도 원고에게 그 수익권 양도에 따른 이 사건 부가가치세 신고, 납부대행 의무가 없는 이상, \n",
      "        소외 주식회사를 위하여 이 사건 부가가치세 신고를 대행하지 않고 피고에게 \n",
      "        소외 주식회사로부터 양수한 이 사건 환급금의 지급을 구하는 것이 신의성실의 원칙에 반하는 것이라 할 수 없다고 판단하였는바, 관련 법규와 기록에 비추어 보면 원심의 위와 같은 판단은 정당하고 거기에 상고이유의 주장과 같은 채증법칙 위반 등의 위법이 없다.\n",
      "        2. 상고이유 제5점에 대하여국세기본법 제51조 제2항에 의한 국세환급금의 충당이 있으면 환급금채무와 조세채권은 대등액에서 소멸하고, 다만 충당의 효력은 그 행위가 행하여진 날로부터 장래에 향하여서만 발생하며\n",
      "        (\n",
      "        대법원 2008. 7. 24. 선고 2008다19843 판결 등 참조), 한편 \n",
      "        국세기본법 제53조는 ‘납세자는 국세환급금에 관한 권리를 대통령령이 정하는 바에 의하여 타인에게 양도할 수 있다’고 규정하고 있고, \n",
      "        국세기본법 시행령 제42조는 ‘국세환급금에 관한 권리를 타인에게 양도하고자 하는 납세자는 양도인 및 양수인의 주소와 성명, 양도하고자 하는 권리의 내용 등을 기재한 문서로 세무서장에게 양도를 요구하여야 한다’고 규정하고 있다.\n",
      "        이러한 법리, 법령 규정들과 원심판결 이유 및 기록에 비추어 보면, 이 사건에서 원고가 \n",
      "        소외 주식회사로부터 양도받은 \n",
      "        소외 주식회사의 피고에 대한 부가가치세 환급금 채권에 관하여 \n",
      "        소외 주식회사를 상대로 \n",
      "        서울중앙지방법원 2006가합109914호 채권양도통지의 판결을 받아 피고 산하 동래세무서장에게 이 사건 환급금 882,819,925원의 지급을 청구한 2007. 6. 22. 이전에 이미 이 사건 환급금 중 일부는 \n",
      "        소외 주식회사가 체납한 법인세 등의 국세에 충당되어 소멸하였음을 의심할 만한 사정이 엿보인다.\n",
      "        그럼에도 불구하고, 원심은 위와 같은 점에 대하여 제대로 심리·판단하지 아니한 채 그 판시와 같은 이유만으로 피고에게 이 사건 환급금 전액을 지급할 의무가 있다고 판단하고 말았으니 이러한 원심판결에는 심리를 제대로 하지 아니하였거나 채증법칙을 위반하였거나 국세환급금 충당에 관한 법리를 오해하여 판결에 영향을 미친 위법이 있다. 이를 지적하는 취지의 상고이유 주장은 이유 있다.  3. 그러므로 원심판결을 파기하고 사건을 다시 심리·판단하게 하기 위하여 원심법원에 환송하기로 하여, 관여 대법관의 일치된 의견으로 주문과 같이 판결한다.\n"
     ]
    }
   ],
   "source": [
    "directory_path = '판례/판례내용2010'\n",
    "start_char = '【이    유】' \n",
    "end_char = '대법관 '\n",
    "extracted_list_2010 = []\n",
    "extracted_list_2010 = read_files_to_list(directory_path, start_char, end_char)\n",
    "print(extracted_list_2010[0])"
   ]
  },
  {
   "cell_type": "code",
   "execution_count": 31,
   "metadata": {},
   "outputs": [],
   "source": [
    "import pandas as pd\n",
    "extracted_list_1960\n",
    "extracted_list_1970\n",
    "extracted_list_1980\n",
    "extracted_list_1990\n",
    "extracted_list_2000\n",
    "extracted_list_2010\n",
    "\n",
    "df1960 = pd.DataFrame({'시대': 1960, '이유': extracted_list_1960})\n",
    "df1970 = pd.DataFrame({'시대': 1970, '이유': extracted_list_1970})\n",
    "df1980 = pd.DataFrame({'시대': 1980, '이유': extracted_list_1980})\n",
    "df1990 = pd.DataFrame({'시대': 1990, '이유': extracted_list_1990})\n",
    "df2000 = pd.DataFrame({'시대': 2000, '이유': extracted_list_2000})\n",
    "df2010 = pd.DataFrame({'시대': 2010, '이유': extracted_list_2010})\n",
    "\n",
    "dfs = [df1960, df1970, df1980, df1990, df2000, df2010]\n",
    "combined_df = pd.concat(dfs, ignore_index=False)\n",
    "\n",
    "combined_df.to_excel('cases.xlsx', index=False)\n"
   ]
  }
 ],
 "metadata": {
  "kernelspec": {
   "display_name": "Python 3 (ipykernel)",
   "language": "python",
   "name": "python3"
  },
  "language_info": {
   "codemirror_mode": {
    "name": "ipython",
    "version": 3
   },
   "file_extension": ".py",
   "mimetype": "text/x-python",
   "name": "python",
   "nbconvert_exporter": "python",
   "pygments_lexer": "ipython3",
   "version": "3.8.19"
  }
 },
 "nbformat": 4,
 "nbformat_minor": 4
}
